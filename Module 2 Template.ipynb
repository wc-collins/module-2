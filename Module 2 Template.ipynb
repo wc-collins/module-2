{
 "cells": [
  {
   "cell_type": "markdown",
   "id": "07d08828-39be-453d-9c15-7d0737ceb72f",
   "metadata": {},
   "source": [
    "## Module 2:  \n",
    "\n",
    "## Team Members:\n",
    "Porter Jurica, William Collins blah bafeqjg\n",
    "\n",
    "## Project Title:\n",
    "Qualitative Analysis of Pulmonary Fibrosis Progression\n",
    "\n"
   ]
  },
  {
   "cell_type": "markdown",
   "id": "8372d796-186a-4ae2-9b4f-0065979e555a",
   "metadata": {},
   "source": [
    "## Project Goal:\n",
    "This project seeks to answer the following questions:\n",
    "- How does the extent of fibrosis vary throughout the depth of fibrotic lung?\n",
    "- Using interpolation, can one produce the amount of fibrosis at a specific depth into the lung?"
   ]
  },
  {
   "attachments": {},
   "cell_type": "markdown",
   "id": "91408b75-185a-4d66-9ce7-7c7aabbde5e1",
   "metadata": {},
   "source": [
    "## Disease Background: \n",
    "\n",
    "\n",
    "Prevalence & incidence\n",
    "- The prevalence of pulmonary fibrotic disease is approximately 13 to 20 per 100,000 people worldwide, and global incidence is approximately 5.8 new cases per 100,000 people per year.\n",
    "\n",
    "https://medlineplus.gov/genetics/condition/idiopathic-pulmonary-fibrosis/#frequency\n",
    "\n",
    "https://pubmed.ncbi.nlm.nih.gov/40775309/\n",
    "\n",
    "Risk factors (genetic, lifestyle)\n",
    "- Some risk factors for pulmonary fibrosis include previous autoimmune diseases like rheumatoid arthritis, some viral infections that can cause abnormal lung scarring, exposure to hazardous materials like asbestos, coal, and mold, as well as radiation treatments and regular smoking. Additionally, genetics sometimes plays a role, as there are certain genes that can increase disease risk.\n",
    "\n",
    "https://www.lung.org/lung-health-diseases/lung-disease-lookup/pulmonary-fibrosis/introduction/types-causes-and-risk-factors\n",
    "\n",
    "Symptoms\n",
    "- Symptoms of pulmonary fibrosis are shortness of breath, dry and persistent cough, excessive fatigue, unintended weight loss, aching muscles and joints, and occasionally \"clubbing\" of fingertips.\n",
    "\n",
    "https://www.mayoclinic.org/diseases-conditions/pulmonary-fibrosis/symptoms-causes/syc-20353690\n",
    "https://www.pulmonaryfibrosis.org/understanding-pff/about-pulmonary-fibrosis/symptoms\n",
    "\n",
    "Standard of care treatment(s)\n",
    "\n",
    "Biological mechanisms (anatomy, organ physiology, cell & molecular physiology)"
   ]
  },
  {
   "cell_type": "markdown",
   "id": "3b99aefb-cb03-4bd8-b972-437eb0e02dfe",
   "metadata": {},
   "source": [
    "## Data-Set: \n",
    "Unpublished data was collected by the Peirce-Cottler Lab (Dept. of Biomedical Engineering) and Kim Lab (Division of Pulmonary and Critical Care) at the University of Virginia School of Medicine. \n",
    "\n",
    "The dataset consists of recently generated experimental measurements that examine pulmonary function and structure at both the cellular and tissue levels. These data were obtained to increase understanding of how inflammatory processes contribute to lung disease/injury under different physiological conditions.\n",
    "\n",
    "Data Collection & Techniques:\n",
    "- Data were collected using imaging techniques.\n",
    "    - Lung tissues were analyzed through immunohistochemistry and immunofluoresence to help identify protein makrers and cell types. \n",
    "    - Vessel diamter, cell density, and intensity of fluoresence were measured from confocal microscopy images with the utlization of ImageJ. These quantitative measurements were expressed in micrometers, cells per area, and arbitrary fluorescence units, respectively.\n",
    "    - Black and white images of lung tissue were provided in the dataset. White pixels represent markings of fibrosis whereas black pixels represent healthy lung tissue.\n",
    "- Molecular assays were also used (when applicable) to assess gene and protein expression levels, and were reported as fold-change or pg/mL."
   ]
  },
  {
   "cell_type": "markdown",
   "id": "f4cde622-5508-4a54-aba8-77b454138bff",
   "metadata": {},
   "source": [
    "## Data Analyis: \n",
    "*(Describe how you analyzed the data. This is where you should intersperse your Python code so that anyone reading this can run your code to perform the analysis that you did, generate your figures, generate your .csv file, etc.)*"
   ]
  },
  {
   "cell_type": "code",
   "execution_count": 16,
   "id": "4460279c",
   "metadata": {},
   "outputs": [
    {
     "name": "stdout",
     "output_type": "stream",
     "text": [
      "\u001b[36mMASK_Sk658 Llobe ch010017.jpg | Depth: 45 | % White: 0.66\u001b[0m\n",
      "\u001b[36mMASK_Sk658 Llobe ch010018.jpg | Depth: 90 | % White: 0.80\u001b[0m\n",
      "\u001b[36mMASK_Sk658 Llobe ch010019.jpg | Depth: 60 | % White: 0.75\u001b[0m\n",
      "\u001b[36mMASK_Sk658 Llobe ch010021.jpg | Depth: 30 | % White: 0.57\u001b[0m\n",
      "\u001b[36mMASK_Sk658 Llobe ch010022.jpg | Depth: 80 | % White: 0.79\u001b[0m\n",
      "\u001b[36mMASK_Sk658 Llobe ch010023.jpg | Depth: 100 | % White: 0.89\u001b[0m\n",
      "\u001b[32m\n",
      "CSV file saved to: C:\\Users\\xzu6qa\\OneDrive\\BME2315M2\\Percent_White_Pixels.csv\u001b[0m\n"
     ]
    }
   ],
   "source": [
    "import os\n",
    "import cv2\n",
    "import pandas as pd\n",
    "from termcolor import colored\n",
    "\n",
    "# 1) Folder path\n",
    "folder_path = r\"C:\\Users\\xzu6qa\\OneDrive\\BME2315M2\"\n",
    "\n",
    "# 2) Image filenames\n",
    "image_names = [\n",
    "    \"MASK_Sk658 Llobe ch010017.jpg\",\n",
    "    \"MASK_Sk658 Llobe ch010018.jpg\",\n",
    "    \"MASK_Sk658 Llobe ch010019.jpg\",\n",
    "    \"MASK_Sk658 Llobe ch010021.jpg\",\n",
    "    \"MASK_Sk658 Llobe ch010022.jpg\",\n",
    "    \"MASK_Sk658 Llobe ch010023.jpg\"\n",
    "]\n",
    "\n",
    "# 3) Depths corresponding to each image\n",
    "depths = [\n",
    "    45, 90, 60, 30, 80, 100 # in microns\n",
    "]\n",
    "\n",
    "# 4) Store results for CSV\n",
    "results = []\n",
    "\n",
    "# 5) Loop through images\n",
    "for name, depth in zip(image_names, depths):\n",
    "    image_path = os.path.join(folder_path, name)\n",
    "\n",
    "    if not os.path.exists(image_path):\n",
    "        print(colored(f\"File not found: {image_path}\", \"red\"))\n",
    "        continue\n",
    "\n",
    "    img = cv2.imread(image_path)\n",
    "    if img is None:\n",
    "        print(colored(f\"Could not load: {image_path}\", \"red\"))\n",
    "        continue\n",
    "\n",
    "    # Convert to grayscale\n",
    "    gray = cv2.cvtColor(img, cv2.COLOR_BGR2GRAY)\n",
    "\n",
    "    # Calculate percent white pixels\n",
    "    white_count = (gray > 200).sum()\n",
    "    total_pixels = gray.size\n",
    "    percent_white = (white_count / total_pixels) * 100\n",
    "\n",
    "    print(colored(f\"{name} | Depth: {depth} | % White: {percent_white:.2f}\", \"cyan\"))\n",
    "\n",
    "    results.append({\n",
    "        \"Filename\": name,\n",
    "        \"Depths\": depth,\n",
    "        \"Percent White Pixels\": round(percent_white, 2)\n",
    "    })\n",
    "\n",
    "# 6) Create DataFrame and save to CSV\n",
    "if results:\n",
    "    df = pd.DataFrame(results)\n",
    "    output_csv = os.path.join(folder_path, \"Percent_White_Pixels.csv\")\n",
    "    df.to_csv(output_csv, index=False)\n",
    "    print(colored(f\"\\nCSV file saved to: {output_csv}\", \"green\"))\n",
    "else:\n",
    "    print(colored(\"\\nNo results to save — check image paths.\", \"red\"))"
   ]
  },
  {
   "cell_type": "markdown",
   "id": "5c67b6a4-ec94-4d28-b2a7-f6b860495118",
   "metadata": {},
   "source": [
    "## Verify and validate your analysis: \n",
    "*(Describe how you checked to see that your analysis gave you an answer that you believe (verify). Describe how your determined if your analysis gave you an answer that is supported by other evidence (e.g., a published paper).*"
   ]
  },
  {
   "cell_type": "markdown",
   "id": "2736cf95-2b93-444f-90c8-d40a54fc1df1",
   "metadata": {},
   "source": [
    "## Conclusions and Ethical Implications: \n",
    "*(Think about the answer your analysis generated, draw conclusions related to your overarching question, and discuss the ethical implications of your conclusions.*"
   ]
  },
  {
   "cell_type": "markdown",
   "id": "f023b735-6efb-43ed-a03d-eb4a9cdb734e",
   "metadata": {},
   "source": [
    "## Limitations and Future Work: \n",
    "*(Think about the answer your analysis generated, draw conclusions related to your overarching question, and discuss the ethical implications of your conclusions.*"
   ]
  },
  {
   "cell_type": "markdown",
   "id": "d9295960-2404-43dc-b46f-9a6f823f1657",
   "metadata": {},
   "source": [
    "## NOTES FROM YOUR TEAM: \n",
    "10/2:\n",
    "- Assigned to new teams for Module 2\n",
    "- Downloaded main_example.py, 6 random lobe images (provided from dataset), and installed needed modules & libraries\n",
    "\n",
    "10/7:\n",
    "- Having tons of trouble with Python and VSCode for some reason - reaching out to IT help desk & department for assistance\n",
    "- Downloaded interpolation_example.py\n",
    "- Largely worked on Disease Background, Data Set, and Data Analysis\n",
    "\n",
    "10/9 (before class):\n",
    "- Fixed Python and VSCode issues (changed computers from Mac to Dell)\n",
    "- Successfully created csv file required for Module 2"
   ]
  },
  {
   "cell_type": "markdown",
   "id": "bd725b7f-9741-46b6-a213-9518da9201c3",
   "metadata": {},
   "source": [
    "## QUESTIONS FOR YOUR TA: \n",
    "- No questions for TA, but have been regularly attending office hours and asking for assitance when needed."
   ]
  }
 ],
 "metadata": {
  "kernelspec": {
   "display_name": "base",
   "language": "python",
   "name": "python3"
  },
  "language_info": {
   "codemirror_mode": {
    "name": "ipython",
    "version": 3
   },
   "file_extension": ".py",
   "mimetype": "text/x-python",
   "name": "python",
   "nbconvert_exporter": "python",
   "pygments_lexer": "ipython3",
   "version": "3.13.5"
  }
 },
 "nbformat": 4,
 "nbformat_minor": 5
}
